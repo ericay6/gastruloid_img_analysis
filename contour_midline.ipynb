{
 "cells": [
  {
   "cell_type": "code",
   "execution_count": 71,
   "id": "bbcdc417-18c6-4c9f-93ef-7cbcb208122a",
   "metadata": {},
   "outputs": [],
   "source": [
    "from skimage import io, measure, morphology, graph, color\n",
    "import numpy as np\n",
    "import matplotlib.pyplot as plt\n",
    "\n",
    "image_path = \"/Users/ericayliu/Bowling Lab/250428_gastruloids_mCherry_puro_250507_120h_004_ch00.tiff\"\n",
    "binary = io.imread(image_path)\n",
    "\n",
    "def get_contour_from_mask(mask, padding=100, smooth=False, smooth_sigma=5):\n",
    "\n",
    "    # 1. Find contours\n",
    "    contours = measure.find_contours(mask.astype(float), level=0.5)\n",
    "    if not contours:\n",
    "        raise ValueError(\"No contours found in the binary mask.\")\n",
    "    \n",
    "    # 2. Use the longest contour\n",
    "    contour = max(contours, key=len)\n",
    "    contour = np.array(contour)  # shape (N, 2) — (row, col)\n",
    "\n",
    "    # 3. Bounding box with padding\n",
    "    rows, cols = contour[:, 0], contour[:, 1]\n",
    "    top = max(int(np.min(rows)) - padding, 0)\n",
    "    bottom = int(np.max(rows)) + padding\n",
    "    left = max(int(np.min(cols)) - padding, 0)\n",
    "    right = int(np.max(cols)) + padding\n",
    "    bbox = [top, bottom, left, right]\n",
    "\n",
    "    return contour, bbox"
   ]
  },
  {
   "cell_type": "code",
   "execution_count": 73,
   "id": "ff14b37c-315a-486b-adfc-f89d55e45ef3",
   "metadata": {},
   "outputs": [
    {
     "data": {
      "image/png": "[encoded data removed]",
      "text/plain": [
       "<Figure size 640x480 with 1 Axes>"
      ]
     },
     "metadata": {},
     "output_type": "display_data"
    }
   ],
   "source": [
    "# binary = your 2D mask (e.g., from imu.clean_binarized)\n",
    "contour, BBOX = get_contour_from_mask(binary, padding=100)\n",
    "\n",
    "# Plot\n",
    "plt.imshow(binary, cmap='gray')\n",
    "plt.plot(contour[:, 1], contour[:, 0], color='red')\n",
    "plt.title(\"Contour\")\n",
    "plt.show()"
   ]
  },
  {
   "cell_type": "code",
   "execution_count": 51,
   "id": "0e4c1b42-f5da-47a1-ad9f-8f6c9c5d6ec1",
   "metadata": {},
   "outputs": [],
   "source": [
    "from skimage.morphology import medial_axis\n",
    "from scipy.spatial.distance import euclidean\n",
    "from skimage.graph import route_through_array\n",
    "import numpy as np\n",
    "\n",
    "def get_axis_and_length(cnt, image):\n",
    "    \"\"\"\n",
    "    Given a contour and the original image, compute:\n",
    "    - the medial axis skeleton\n",
    "    - extend it to connect endpoints\n",
    "    - return the axis coordinates and the midline length in pixels\n",
    "    \"\"\"\n",
    "    # Step 1: Convert contour into binary mask\n",
    "    from skimage.draw import polygon2mask\n",
    "    mask = polygon2mask(image.shape, cnt)\n",
    "\n",
    "    # Step 2: Compute medial axis\n",
    "    skeleton = medial_axis(mask)\n",
    "\n",
    "    # Step 3: Extract skeleton coordinates\n",
    "    coords = np.column_stack(np.nonzero(skeleton))\n",
    "\n",
    "    if len(coords) < 2:\n",
    "        raise ValueError(\"Skeleton too small or disconnected.\")\n",
    "\n",
    "    # Step 4: Find two endpoints (farthest apart on skeleton)\n",
    "    def farthest_pair(points):\n",
    "        max_dist = 0\n",
    "        pair = (points[0], points[1])\n",
    "        for i in range(len(points)):\n",
    "            for j in range(i + 1, len(points)):\n",
    "                d = euclidean(points[i], points[j])\n",
    "                if d > max_dist:\n",
    "                    max_dist = d\n",
    "                    pair = (points[i], points[j])\n",
    "        return pair\n",
    "\n",
    "    start, end = farthest_pair(coords)\n",
    "\n",
    "    # Step 5: Route midline path along skeleton from start to end\n",
    "    cost_array = np.where(skeleton, 1, np.inf)\n",
    "    path, _ = route_through_array(cost_array, tuple(start), tuple(end), fully_connected=True)\n",
    "    MedialAxis = np.array(path)\n",
    "    \n",
    "    # Step 6: Compute total midline length\n",
    "    diffs = np.diff(MedialAxis, axis=0)\n",
    "    segment_lengths = np.linalg.norm(diffs, axis=1)\n",
    "    length = segment_lengths.sum()\n",
    "\n",
    "    return MedialAxis, length\n"
   ]
  },
  {
   "cell_type": "code",
   "execution_count": 53,
   "id": "a599f2ba-f1c1-4eb2-a8da-1c813020f1b3",
   "metadata": {},
   "outputs": [],
   "source": [
    "from skimage import measure\n",
    "\n",
    "# mask: binary mask of the gastruloid (2D numpy array)\n",
    "# Usually obtained from imu.clean_binarized or manually created\n",
    "\n",
    "contours = measure.find_contours(mask.astype(float), level=0.5)\n",
    "\n",
    "# Get the longest one (likely the outer boundary)\n",
    "cnt = max(contours, key=len)\n",
    "cnt = np.asarray(cnt)"
   ]
  },
  {
   "cell_type": "code",
   "execution_count": 61,
   "id": "709dbf02-d5c0-4e26-84d0-b5116031436e",
   "metadata": {},
   "outputs": [
    {
     "name": "stdout",
     "output_type": "stream",
     "text": [
      "Length = 568.8338992460372 µm\n"
     ]
    },
    {
     "data": {
      "text/plain": [
       "(-0.5, 2047.5, 2047.5, -0.5)"
      ]
     },
     "execution_count": 61,
     "metadata": {},
     "output_type": "execute_result"
    },
    {
     "data": {
      "image/png": "[encoded data removed]",
      "text/plain": [
       "<Figure size 500x500 with 1 Axes>"
      ]
     },
     "metadata": {},
     "output_type": "display_data"
    }
   ],
   "source": [
    "um_per_pixel = 0.65  # or your actual image scale\n",
    "\n",
    "MedialAxis, length = get_axis_and_length(cnt, binary)\n",
    "\n",
    "print(\"Length =\", length * um_per_pixel, \"µm\")\n",
    "\n",
    "# Visualization\n",
    "fig, ax = plt.subplots(figsize=(5, 5))\n",
    "ax.imshow(binary, cmap='gray')\n",
    "xM, yM = MedialAxis.T\n",
    "ax.plot(yM, xM, c='y')\n",
    "ax.axis('off')\n"
   ]
  },
  {
   "cell_type": "code",
   "execution_count": null,
   "id": "c46fb17e-0fd0-4c5b-8c36-acd7160d97bf",
   "metadata": {},
   "outputs": [],
   "source": []
  }
 ],
 "metadata": {
  "kernelspec": {
   "display_name": "Python [conda env:base] *",
   "language": "python",
   "name": "conda-base-py"
  },
  "language_info": {
   "codemirror_mode": {
    "name": "ipython",
    "version": 3
   },
   "file_extension": ".py",
   "mimetype": "text/x-python",
   "name": "python",
   "nbconvert_exporter": "python",
   "pygments_lexer": "ipython3",
   "version": "3.12.7"
  }
 },
 "nbformat": 4,
 "nbformat_minor": 5
}
